{
 "cells": [
  {
   "cell_type": "code",
   "execution_count": null,
   "id": "cfd5f907",
   "metadata": {},
   "outputs": [],
   "source": [
    "#  3. Resume Matching & Scoring\n",
    "\n",
    "#  1. Load Resume Texts & Job Description\n",
    "# - Load raw resume text\n",
    "# - Load a job description string\n",
    "\n",
    "#  2. Preprocessing\n",
    "# - Lowercase, remove punctuation, stop words\n",
    "# - Lemmatize using spaCy\n",
    "\n",
    "#  3. TF-IDF Vectorization\n",
    "# - Use scikit-learn’s TfidfVectorizer\n",
    "# - Compute vectors for all resumes + job description\n",
    "\n",
    "#  4. Cosine Similarity\n",
    "# - Compute similarity between job description and each resume\n",
    "# - Score between 0 (no match) to 1 (perfect match)\n",
    "\n",
    "#  5. Display Results\n",
    "# - Table: Resume name, score, top skills\n"
   ]
  },
  {
   "cell_type": "code",
   "execution_count": 11,
   "id": "f50926e1",
   "metadata": {},
   "outputs": [],
   "source": [
    "from pathlib import Path\n",
    "\n",
    "# Folder where extracted resume text files are stored\n",
    "resume_folder = Path(\"../data/extracted_texts\")\n",
    "resume_texts = {}\n",
    "for file in resume_folder.glob(\"*.txt\"):\n",
    "    resume_texts[file.stem] = file.read_text()\n",
    "\n",
    "# Example job description\n",
    "job_description = \"\"\"\n",
    "Looking for a Data Scientist with strong skills in Python, SQL, and machine learning. \n",
    "Must be able to work with tools like Pandas, Scikit-learn, Power BI, and Streamlit. \n",
    "Experience with data analysis, model building, and data visualization is required. \n",
    "Good communication and problem-solving skills are a plus.\n",
    "\"\"\"\n",
    "\n"
   ]
  },
  {
   "cell_type": "code",
   "execution_count": 12,
   "id": "9edec427",
   "metadata": {},
   "outputs": [],
   "source": [
    "import spacy\n",
    "import string\n",
    "\n",
    "nlp = spacy.load(\"en_core_web_sm\")\n",
    "\n",
    "def preprocess(text):\n",
    "    doc = nlp(text.lower())\n",
    "    tokens = [\n",
    "        token.lemma_ for token in doc\n",
    "        if not token.is_stop and not token.is_punct and token.lemma_ not in string.punctuation\n",
    "    ]\n",
    "    return \" \".join(tokens)\n",
    "\n",
    "processed_resumes = {name: preprocess(text) for name, text in resume_texts.items()}\n",
    "processed_jd = preprocess(job_description)\n",
    "\n"
   ]
  },
  {
   "cell_type": "code",
   "execution_count": 13,
   "id": "0c502b08",
   "metadata": {},
   "outputs": [],
   "source": [
    "from sklearn.feature_extraction.text import TfidfVectorizer\n",
    "\n",
    "vectorizer = TfidfVectorizer()\n",
    "documents = list(processed_resumes.values()) + [processed_jd]\n",
    "tfidf_matrix = vectorizer.fit_transform(documents)\n"
   ]
  },
  {
   "cell_type": "code",
   "execution_count": 14,
   "id": "c79d1301",
   "metadata": {},
   "outputs": [],
   "source": [
    "from sklearn.metrics.pairwise import cosine_similarity\n",
    "\n",
    "# Last entry in matrix is the job description\n",
    "jd_vector = tfidf_matrix[-1]\n",
    "resume_vectors = tfidf_matrix[:-1]\n",
    "\n",
    "similarities = cosine_similarity(resume_vectors, jd_vector)\n"
   ]
  },
  {
   "cell_type": "code",
   "execution_count": 16,
   "id": "e8a4dc20",
   "metadata": {},
   "outputs": [
    {
     "name": "stdout",
     "output_type": "stream",
     "text": [
      "         resume  similarity\n",
      "1   resume1_pdf    0.276204\n",
      "0  resume1_docx    0.270264\n"
     ]
    },
    {
     "name": "stderr",
     "output_type": "stream",
     "text": [
      "C:\\Users\\techn\\AppData\\Local\\Temp\\ipykernel_12792\\2209041948.py:4: DeprecationWarning: Conversion of an array with ndim > 0 to a scalar is deprecated, and will error in future. Ensure you extract a single element from your array before performing this operation. (Deprecated NumPy 1.25.)\n",
      "  {\"resume\": name, \"similarity\": float(score)}\n"
     ]
    }
   ],
   "source": [
    "import pandas as pd\n",
    "\n",
    "scores = [\n",
    "    {\"resume\": name, \"similarity\": float(score)}\n",
    "    for name, score in zip(processed_resumes.keys(), similarities)\n",
    "]\n",
    "\n",
    "df = pd.DataFrame(scores).sort_values(by=\"similarity\", ascending=False)\n",
    "print(df)\n"
   ]
  }
 ],
 "metadata": {
  "kernelspec": {
   "display_name": "base",
   "language": "python",
   "name": "python3"
  },
  "language_info": {
   "codemirror_mode": {
    "name": "ipython",
    "version": 3
   },
   "file_extension": ".py",
   "mimetype": "text/x-python",
   "name": "python",
   "nbconvert_exporter": "python",
   "pygments_lexer": "ipython3",
   "version": "3.12.3"
  }
 },
 "nbformat": 4,
 "nbformat_minor": 5
}
