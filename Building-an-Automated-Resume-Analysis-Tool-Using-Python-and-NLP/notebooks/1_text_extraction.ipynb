{
 "cells": [
  {
   "cell_type": "code",
   "execution_count": null,
   "id": "faebdeb5",
   "metadata": {},
   "outputs": [],
   "source": [
    "#!pip install -r requirements.txt"
   ]
  },
  {
   "cell_type": "code",
   "execution_count": null,
   "id": "73b46c3e",
   "metadata": {},
   "outputs": [],
   "source": [
    "# 1. Text Extraction from Resumes (PDF & DOCX)\n",
    "\n",
    "# 🔧 Imports\n",
    "import os\n",
    "from pathlib import Path\n",
    "\n",
    "import PyPDF2\n",
    "from pdfminer.high_level import extract_text as extract_pdfminer_text\n",
    "import docx\n",
    "import docx2txt\n",
    "\n",
    "# 📁 Paths (adjust based on your local folder)\n",
    "sample_folder = Path(\"C:\\\\Users\\\\techn\\\\OneDrive\\\\Desktop\\\\Resume_Parser\\\\AI-Resume-Parser\\\\data\\\\sample_resumes\")\n",
    "pdf_file =sample_folder/\"Vedururu_Srinivas_Resume.pdf\"\n",
    "#docx_file = sample_folder / \"Vedururu_Srinivas_Resume.docx\"\n"
   ]
  },
  {
   "cell_type": "code",
   "execution_count": 27,
   "id": "77aa5581",
   "metadata": {},
   "outputs": [
    {
     "name": "stdout",
     "output_type": "stream",
     "text": [
      "📄 Extracted with PyPDF2:\n",
      " Vedururu Srinivasa Rao  \n",
      "+91-9032086597  |  srinivasvedururu@gmail.com   |  portfolio   |  Github  |  Linkedin  \n",
      "EDUCATION  \n",
      "ST . Martins Engineering College, Hyderabad — B.Tech in Artificial Intelligence & Data Science  (2023 –2027)   \n",
      "Narayana Junior College, Hyderabad — Intermediate in MPC  (2021 –2023)   \n",
      "Newton Techno High School, Hyderabad — SSC,Board of Secondary Education  (Completed in 2021 ) \n",
      " \n",
      "SKILLS   \n",
      "Technical: Python (Advanced), SQL (Advanced), Machine Learning (Supervised & Unsup\n"
     ]
    }
   ],
   "source": [
    "def extract_text_pypdf2(pdf_path):\n",
    "    text = \"\"\n",
    "    with open(pdf_path, \"rb\") as f:\n",
    "        reader = PyPDF2.PdfReader(f)\n",
    "        for page in reader.pages:\n",
    "            text += page.extract_text() or \"\"\n",
    "    return text.strip()\n",
    "\n",
    "pdf_text = extract_text_pypdf2(pdf_file)\n",
    "print(\"📄 Extracted with PyPDF2:\\n\", pdf_text[:500])  # preview first 500 chars\n"
   ]
  },
  {
   "cell_type": "code",
   "execution_count": null,
   "id": "bd80928e",
   "metadata": {},
   "outputs": [],
   "source": []
  }
 ],
 "metadata": {
  "kernelspec": {
   "display_name": "base",
   "language": "python",
   "name": "python3"
  },
  "language_info": {
   "codemirror_mode": {
    "name": "ipython",
    "version": 3
   },
   "file_extension": ".py",
   "mimetype": "text/x-python",
   "name": "python",
   "nbconvert_exporter": "python",
   "pygments_lexer": "ipython3",
   "version": "3.12.3"
  }
 },
 "nbformat": 4,
 "nbformat_minor": 5
}
