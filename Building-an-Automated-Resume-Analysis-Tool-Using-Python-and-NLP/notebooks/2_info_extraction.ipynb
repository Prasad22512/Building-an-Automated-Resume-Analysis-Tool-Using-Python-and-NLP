{
 "cells": [
  {
   "cell_type": "code",
   "execution_count": 1,
   "id": "3329c9ac",
   "metadata": {},
   "outputs": [],
   "source": [
    "import re\n",
    "import spacy\n",
    "from pathlib import Path\n",
    "#!python -m spacy download en_core_web_sm\n"
   ]
  },
  {
   "cell_type": "code",
   "execution_count": 2,
   "id": "97662fe2",
   "metadata": {},
   "outputs": [],
   "source": [
    "\n",
    "\n",
    "resume_text = Path(\"../data/extracted_texts/resume1_pdf.txt\").read_text()\n"
   ]
  },
  {
   "cell_type": "code",
   "execution_count": 3,
   "id": "bd95aed2",
   "metadata": {},
   "outputs": [
    {
     "name": "stdout",
     "output_type": "stream",
     "text": [
      "👤 Name: Vedururu Srinivasa Rao\n",
      "📧 Email: srinivasvedururu@gmail.com\n",
      "📱 Phone: +91-9032086597\n"
     ]
    }
   ],
   "source": [
    "nlp = spacy.load(\"en_core_web_sm\")\n",
    "\n",
    "def extract_email(text):\n",
    "    match = re.search(r\"[a-zA-Z0-9._%+-]+@[a-zA-Z0-9.-]+\\.[a-zA-Z]{2,}\", text)\n",
    "    return match.group(0) if match else None\n",
    "\n",
    "def extract_phone(text):\n",
    "    pattern = r\"(\\+\\d{1,3}[-.\\s]?)?\\(?\\d{3}\\)?[-.\\s]?\\d{3}[-.\\s]?\\d{4}\"\n",
    "    match = re.search(pattern, text)\n",
    "    return match.group(0) if match else None\n",
    "\n",
    "# To get name without surname\n",
    "# def extract_name(text):\n",
    "#     # NER first\n",
    "#     doc = nlp(text)\n",
    "#     names = [ent.text.strip() for ent in doc.ents if ent.label_ == \"PERSON\"]\n",
    "#     if names:\n",
    "#         longest = max(names, key=lambda n: len(n.split()))\n",
    "#         if len(longest.split()) >= 2:\n",
    "#             return longest\n",
    "        \n",
    "def extract_name_from_header(text):\n",
    "    lines = [line.strip() for line in text.splitlines() if line.strip()]\n",
    "    for line in lines[:5]:  # Look at first 5 lines\n",
    "        if \"@\" not in line and not re.search(r\"\\d\", line):\n",
    "            if 2 <= len(line.split()) <= 4:\n",
    "                return line\n",
    "    return None\n",
    "\n",
    "\n",
    "\n",
    "\n",
    "\n",
    "# Example usage\n",
    "email = extract_email(resume_text)\n",
    "phone = extract_phone(resume_text)\n",
    "name = extract_name_from_header(resume_text)\n",
    "\n",
    "print(f\"👤 Name: {name}\")\n",
    "print(f\"📧 Email: {email}\")\n",
    "print(f\"📱 Phone: {phone}\")\n"
   ]
  },
  {
   "cell_type": "code",
   "execution_count": 4,
   "id": "5716a66d",
   "metadata": {},
   "outputs": [
    {
     "name": "stdout",
     "output_type": "stream",
     "text": [
      "🛠️ Skills: ['Excel', 'NumPy', 'Python', 'Communication', 'Git', 'SQL', 'Matplotlib', 'Pandas']\n"
     ]
    }
   ],
   "source": [
    "import json\n",
    "\n",
    "with open(\"../data/skills.json\") as f:\n",
    "    skill_list = json.load(f)\n",
    "\n",
    "def extract_skills(text, skills):\n",
    "    tokens = [token.text.lower() for token in nlp(text)]\n",
    "    found = [skill for skill in skills if skill.lower() in tokens]\n",
    "    return list(set(found))\n",
    "\n",
    "skills = extract_skills(resume_text, skill_list)\n",
    "print(f\"🛠️ Skills: {skills}\")\n"
   ]
  },
  {
   "cell_type": "code",
   "execution_count": 16,
   "id": "a9657161",
   "metadata": {},
   "outputs": [
    {
     "name": "stdout",
     "output_type": "stream",
     "text": [
      "🎓 Education: ['B.Tech in Artificial Intelligence & Data Science at ST . Martins Engineering College, Hyderabad (2023 –2027)', 'Intermediate in MPC at Narayana Junior College, Hyderabad (2021 –2023)', 'SSC,Board of Secondary Education at Newton Techno High School, Hyderabad (2021)']\n",
      "🧑‍💼 Experience: ['Accenture North America Data Analytics and Visualization Job Simulation (May 2025)']\n"
     ]
    }
   ],
   "source": [
    "def extract_education(text):\n",
    "    edu_match = re.search(r'EDUCATION\\s*([\\s\\S]*?)(?:SKILLS|Experience)', text, re.IGNORECASE)\n",
    "    education_section = edu_match.group(1) if edu_match else \"\"\n",
    "    \n",
    "    # regex : capture institution, degree (with commas), year range or completed year\n",
    "    pattern = r\"([A-Za-z\\s\\.&,-]+?)\\s*—\\s*([A-Za-z\\s,&\\.-]+?)\\s*\\((?:\\s*(\\d{4}\\s*[–-]\\s*\\d{4})|Completed in\\s*(\\d{4}))\\s*\\)\"\n",
    "    \n",
    "    matches = re.findall(pattern, education_section)\n",
    "    \n",
    "    results = []\n",
    "    for institution, degree, year_range, completed_year in matches:\n",
    "        year = year_range if year_range else completed_year\n",
    "        results.append(f\"{degree.strip()} at {institution.strip()} ({year.strip()})\")\n",
    "    return results\n",
    "\n",
    "def extract_experience(text):\n",
    "    pattern = r\"(Accenture North America.*?Job Simulation)\\s*[-–]\\s*([A-Za-z]+\\s+\\d{4})\"\n",
    "    matches = re.findall(pattern, text)\n",
    "    return [f\"{role.strip()} ({date.strip()})\" for role, date in matches]\n",
    "\n",
    "# Run extraction\n",
    "education = extract_education(resume_text)\n",
    "experience = extract_experience(resume_text)\n",
    "\n",
    "# Output\n",
    "print(\"🎓 Education:\", education)\n",
    "print(\"🧑‍💼 Experience:\", experience)\n"
   ]
  },
  {
   "cell_type": "code",
   "execution_count": 17,
   "id": "470d9456",
   "metadata": {},
   "outputs": [
    {
     "name": "stdout",
     "output_type": "stream",
     "text": [
      "{'education': ['B.Tech in Artificial Intelligence & Data Science at ST . '\n",
      "               'Martins Engineering College, Hyderabad (2023 –2027)',\n",
      "               'Intermediate in MPC at Narayana Junior College, Hyderabad '\n",
      "               '(2021 –2023)',\n",
      "               'SSC,Board of Secondary Education at Newton Techno High School, '\n",
      "               'Hyderabad (2021)'],\n",
      " 'email': 'srinivasvedururu@gmail.com',\n",
      " 'experience': ['Accenture North America Data Analytics and Visualization Job '\n",
      "                'Simulation (May 2025)'],\n",
      " 'name': 'Vedururu Srinivasa Rao',\n",
      " 'phone': '+91-9032086597',\n",
      " 'skills': ['Excel',\n",
      "            'NumPy',\n",
      "            'Python',\n",
      "            'Communication',\n",
      "            'Git',\n",
      "            'SQL',\n",
      "            'Matplotlib',\n",
      "            'Pandas']}\n"
     ]
    }
   ],
   "source": [
    "candidate_profile = {\n",
    "    \"name\": name,\n",
    "    \"email\": email,\n",
    "    \"phone\": phone,\n",
    "    \"skills\": skills,\n",
    "    \"education\": education,\n",
    "    \"experience\": experience\n",
    "}\n",
    "\n",
    "from pprint import pprint\n",
    "pprint(candidate_profile)\n"
   ]
  },
  {
   "cell_type": "code",
   "execution_count": null,
   "id": "7e6423c4",
   "metadata": {},
   "outputs": [],
   "source": []
  }
 ],
 "metadata": {
  "kernelspec": {
   "display_name": "base",
   "language": "python",
   "name": "python3"
  },
  "language_info": {
   "codemirror_mode": {
    "name": "ipython",
    "version": 3
   },
   "file_extension": ".py",
   "mimetype": "text/x-python",
   "name": "python",
   "nbconvert_exporter": "python",
   "pygments_lexer": "ipython3",
   "version": "3.12.3"
  }
 },
 "nbformat": 4,
 "nbformat_minor": 5
}
